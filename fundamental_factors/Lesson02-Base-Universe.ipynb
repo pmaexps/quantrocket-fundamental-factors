{
 "cells": [
  {
   "cell_type": "markdown",
   "metadata": {},
   "source": [
    "<a href=\"https://www.quantrocket.com\"><img alt=\"QuantRocket logo\" src=\"https://www.quantrocket.com/assets/img/notebook-header-logo.png\"></a>\n",
    "\n",
    "<a href=\"https://www.quantrocket.com/disclaimer/\">Disclaimer</a>"
   ]
  },
  {
   "cell_type": "markdown",
   "metadata": {},
   "source": [
    "# Define a Base Universe\n",
    "\n",
    "Before researching specific factors, we will define a base universe. We don't want to include certain securities such as ETFs and ADRS in any of our subsequent analysis, and by defining a base universe in a separate file, we can import and use the definition in our notebooks without having to re-define the universe rules in each notebook. \n",
    "\n",
    "The base universe will still be quite broad, for two reasons. First, we can always add more rules to the base rules in any given notebook to narrow the universe. Second, using a broad universe will help us see how factors behave across the US equities market, even if we subsequently wish to narrow the universe for trading or further analysis.   "
   ]
  },
  {
   "cell_type": "markdown",
   "metadata": {
    "tags": []
   },
   "source": [
    "## Explore Sharadar Categories\n",
    "\n",
    "Different types of securities are categorized in the `sharadar_Category` field of the securities master database. Let's query all Sharadar records in the securities master database and group by `sharadar_Category` to see a breakdown of security types:"
   ]
  },
  {
   "cell_type": "code",
   "execution_count": 1,
   "metadata": {
    "tags": []
   },
   "outputs": [
    {
     "data": {
      "text/plain": [
       "sharadar_Category\n",
       "ADR                                          2\n",
       "ADR Common Stock                          2052\n",
       "ADR Common Stock Primary Class             138\n",
       "ADR Common Stock Secondary Class            95\n",
       "ADR Preferred                                6\n",
       "ADR Preferred Stock                         96\n",
       "ADR Stock Warrant                          145\n",
       "CEF                                       1075\n",
       "Canadian                                     1\n",
       "Canadian Common Stock                      368\n",
       "Canadian Common Stock Primary Class         10\n",
       "Canadian Common Stock Secondary Class        3\n",
       "Canadian Preferred Stock                     3\n",
       "Canadian Stock Warrant                       8\n",
       "Domestic                                    76\n",
       "Domestic Common Stock                    13625\n",
       "Domestic Common Stock Primary Class       1177\n",
       "Domestic Common Stock Secondary Class     1081\n",
       "Domestic Preferred                          45\n",
       "Domestic Preferred Stock                  1142\n",
       "Domestic Primary                             1\n",
       "Domestic Stock Warrant                    1646\n",
       "Domestic Warrant                            16\n",
       "ETD                                        462\n",
       "ETF                                       4413\n",
       "ETN                                        400\n",
       "IDX                                          5\n",
       "Name: Symbol, dtype: int64"
      ]
     },
     "execution_count": 1,
     "metadata": {},
     "output_type": "execute_result"
    }
   ],
   "source": [
    "from quantrocket.master import get_securities\n",
    "securities = get_securities(vendors=\"sharadar\", fields=[\"Symbol\", \"sharadar_Category\"])\n",
    "\n",
    "securities.groupby(\"sharadar_Category\").Symbol.count()"
   ]
  },
  {
   "cell_type": "markdown",
   "metadata": {},
   "source": [
    "We will focus on domestic common stocks. Since some companies have multiple share classes, we will exclude \"Domestic Common Stock Secondary Class\". The following Pipeline expression will satisfy these requirements:"
   ]
  },
  {
   "cell_type": "code",
   "execution_count": 2,
   "metadata": {
    "tags": []
   },
   "outputs": [],
   "source": [
    "from zipline.pipeline import master\n",
    "\n",
    "category = master.SecuritiesMaster.sharadar_Category.latest\n",
    "base_universe = (\n",
    "    # domestic common stocks\n",
    "    category.has_substring(\"Domestic Common\")\n",
    "    # no secondary shares\n",
    "    & ~category.has_substring(\"Secondary\")\n",
    ")"
   ]
  },
  {
   "cell_type": "markdown",
   "metadata": {},
   "source": [
    "## Liquidity Filter\n",
    "\n",
    "Even though we want our base universe to be broad and include companies of all sizes, it is still important to add a basic liquidity filter. We will limit the universe to stocks that have had at least some trading volume on each trading day of the past month (approximately 21 trading days). Stocks that have zero trading volume are not only untradable but are also more likely to have suspect prices that can cause unexpected results in Alphalens tear sheets and other analyses.  "
   ]
  },
  {
   "cell_type": "code",
   "execution_count": 3,
   "metadata": {
    "tags": []
   },
   "outputs": [],
   "source": [
    "from zipline.pipeline import EquityPricing\n",
    "\n",
    "base_universe = (EquityPricing.volume.latest > 0).all(21, mask=base_universe)"
   ]
  },
  {
   "cell_type": "markdown",
   "metadata": {},
   "source": [
    "## Penny Stock Filter\n",
    "\n",
    "In addition to the liquidity filter, we will also add a rule to filter out penny stocks by requiring that the closing price must be above $1.00 for 21 consecutive days. Penny stocks often undergo dramatic price jumps and price drops that, if included in the analysis, can bias the results and make it harder to interpret overall factor performance.    "
   ]
  },
  {
   "cell_type": "code",
   "execution_count": 4,
   "metadata": {
    "tags": []
   },
   "outputs": [],
   "source": [
    "base_universe = (EquityPricing.close.latest > 1.00).all(21, mask=base_universe)"
   ]
  },
  {
   "cell_type": "markdown",
   "metadata": {},
   "source": [
    "## Helper file\n",
    "\n",
    "To be able to reuse the base universe, we put it in a separate file, [universe.py](universe.py). The universe can be imported and used as follows:"
   ]
  },
  {
   "cell_type": "code",
   "execution_count": 5,
   "metadata": {
    "tags": []
   },
   "outputs": [],
   "source": [
    "from codeload.fundamental_factors.universe import BaseUniverse\n",
    "\n",
    "universe = BaseUniverse()"
   ]
  },
  {
   "cell_type": "markdown",
   "metadata": {},
   "source": [
    "***\n",
    "\n",
    "## *Next Up*\n",
    "\n",
    "Lesson 3: [Basic Usage](Lesson03-Basic-Usage.ipynb)"
   ]
  }
 ],
 "metadata": {
  "kernelspec": {
   "display_name": "Python 3.9",
   "language": "python",
   "name": "python3"
  },
  "language_info": {
   "codemirror_mode": {
    "name": "ipython",
    "version": 3
   },
   "file_extension": ".py",
   "mimetype": "text/x-python",
   "name": "python",
   "nbconvert_exporter": "python",
   "pygments_lexer": "ipython3",
   "version": "3.9.7"
  }
 },
 "nbformat": 4,
 "nbformat_minor": 4
}
