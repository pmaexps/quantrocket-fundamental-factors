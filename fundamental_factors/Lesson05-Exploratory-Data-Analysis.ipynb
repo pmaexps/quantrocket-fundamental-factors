{
 "cells": [
  {
   "cell_type": "markdown",
   "metadata": {},
   "source": [
    "<a href=\"https://www.quantrocket.com\"><img alt=\"QuantRocket logo\" src=\"https://www.quantrocket.com/assets/img/notebook-header-logo.png\"></a>\n",
    "\n",
    "<a href=\"https://www.quantrocket.com/disclaimer/\">Disclaimer</a>"
   ]
  },
  {
   "cell_type": "markdown",
   "metadata": {},
   "source": [
    "# Exploratory Data Analysis\n",
    "\n",
    "There are several things you can do with Pipeline output, including analyzing forward returns with Alphalens or feeding the results to a Zipline strategy. However, a useful first step in most cases is to explore the data to get a basic sense of the data's distribution and characteristics. This can often highlight ways that you must massage the data or tweak your computations to achieve the desired results.\n"
   ]
  },
  {
   "cell_type": "markdown",
   "metadata": {},
   "source": [
    "## Exploring the Profitability Factor\n",
    "\n",
    "In an earlier lesson, we defined a factor for operating margin, defined as operating income divided by revenue. Operating margin is a measure of profitability. If a company has an operating margin of 10% (0.1), this means that for every dollar of revenue, the company earns 10 cents in operating income.\n",
    "\n",
    "Suppose we wanted to use Alphalens to explore operating margin as a factor in a long-short or long-only strategy. What might our exploratory data analysis look like? \n",
    "\n",
    "Let's begin by executing a pipeline with this factor. To do so, first we create a Pipeline object containing operating margin as the only column, and we import our base universe from lesson 2 to use as a screen: "
   ]
  },
  {
   "cell_type": "code",
   "execution_count": 2,
   "metadata": {
    "tags": []
   },
   "outputs": [],
   "source": [
    "from zipline.pipeline import Pipeline, sharadar\n",
    "from zipline.research import run_pipeline\n",
    "from codeload.fundamental_factors.universe import BaseUniverse\n",
    "\n",
    "fundamentals = sharadar.Fundamentals.slice('ART')\n",
    "\n",
    "operating_margin = fundamentals.OPINC.latest / fundamentals.REVENUE.latest \n",
    "\n",
    "pipeline = Pipeline(\n",
    "    columns={\n",
    "        'operating_margin': operating_margin,\n",
    "    },\n",
    "    screen=BaseUniverse()\n",
    ")"
   ]
  },
  {
   "cell_type": "markdown",
   "metadata": {},
   "source": [
    "Then, we run the pipeline with a year of data. A year is usually sufficient for the purpose of exploratory data analysis, since the purpose is simply to get a basic understanding of the data distribution and characteristics. In contrast, longer date ranges are beneficial when analyzing factor performance with Alphalens or Zipline, in order to see how the factor performs over time."
   ]
  },
  {
   "cell_type": "code",
   "execution_count": 7,
   "metadata": {},
   "outputs": [],
   "source": [
    "results = run_pipeline(pipeline, '2022-01-01', '2022-12-31')"
   ]
  },
  {
   "cell_type": "markdown",
   "metadata": {},
   "source": [
    "## Summarizing the data with pandas' `describe()` method\n",
    "\n",
    "An easy and fail-safe first way to explore the data is using pandas's `describe()` method, which computes summary statistics for each column in the DataFrame. We will visualize the data distribution with a histogram later, but `describe()` is nice because it works for any kind of data and doesn't require us to think in advance about what kind of plot is best suited to the data, a task that can be tricky when we don't yet have a basic understanding of the data distribution."
   ]
  },
  {
   "cell_type": "code",
   "execution_count": 3,
   "metadata": {},
   "outputs": [
    {
     "data": {
      "text/html": [
       "<div>\n",
       "<style scoped>\n",
       "    .dataframe tbody tr th:only-of-type {\n",
       "        vertical-align: middle;\n",
       "    }\n",
       "\n",
       "    .dataframe tbody tr th {\n",
       "        vertical-align: top;\n",
       "    }\n",
       "\n",
       "    .dataframe thead th {\n",
       "        text-align: right;\n",
       "    }\n",
       "</style>\n",
       "<table border=\"1\" class=\"dataframe\">\n",
       "  <thead>\n",
       "    <tr style=\"text-align: right;\">\n",
       "      <th></th>\n",
       "      <th>operating_margin</th>\n",
       "    </tr>\n",
       "  </thead>\n",
       "  <tbody>\n",
       "    <tr>\n",
       "      <th>count</th>\n",
       "      <td>1.167913e+06</td>\n",
       "    </tr>\n",
       "    <tr>\n",
       "      <th>mean</th>\n",
       "      <td>NaN</td>\n",
       "    </tr>\n",
       "    <tr>\n",
       "      <th>std</th>\n",
       "      <td>NaN</td>\n",
       "    </tr>\n",
       "    <tr>\n",
       "      <th>min</th>\n",
       "      <td>-inf</td>\n",
       "    </tr>\n",
       "    <tr>\n",
       "      <th>25%</th>\n",
       "      <td>-6.846688e-01</td>\n",
       "    </tr>\n",
       "    <tr>\n",
       "      <th>50%</th>\n",
       "      <td>3.923255e-02</td>\n",
       "    </tr>\n",
       "    <tr>\n",
       "      <th>75%</th>\n",
       "      <td>1.808615e-01</td>\n",
       "    </tr>\n",
       "    <tr>\n",
       "      <th>max</th>\n",
       "      <td>inf</td>\n",
       "    </tr>\n",
       "  </tbody>\n",
       "</table>\n",
       "</div>"
      ],
      "text/plain": [
       "       operating_margin\n",
       "count      1.167913e+06\n",
       "mean                NaN\n",
       "std                 NaN\n",
       "min                -inf\n",
       "25%       -6.846688e-01\n",
       "50%        3.923255e-02\n",
       "75%        1.808615e-01\n",
       "max                 inf"
      ]
     },
     "execution_count": 3,
     "metadata": {},
     "output_type": "execute_result"
    }
   ],
   "source": [
    "results.describe()"
   ]
  },
  {
   "cell_type": "markdown",
   "metadata": {},
   "source": [
    "We immediately notice the `NaN` and `inf` values in the `describe()` output. What's going on here? This is happening because we are dividing operating income by revenue, and revenue can be 0. Dividing by zero causes numpy to compute +/-infinity for max and min, and the `inf` values cause the `NaN` values for mean and std. A quick check of `describe()` has highlighted a problem that we should correct before going any further. \n",
    "\n",
    "A simple solution is to use the Factor `where()` method to ignore observations where revenue is 0. The `where()` method takes a Filter (Pipeline's version of a boolean condition) as its first argument, and returns a new Factor with only those values where the Filter is True. A replacement value can be passed as an optional second argument, but if this is omitted, as we do below, the Factor will be masked with `NaN` values where the Filter is False. These `NaN`s will then be ignored in subsequent analyses.\n",
    "\n",
    "We re-write the operating margin factor to ignore observations with no revenue as follows:"
   ]
  },
  {
   "cell_type": "code",
   "execution_count": 15,
   "metadata": {},
   "outputs": [],
   "source": [
    "revenue = fundamentals.REVENUE.latest\n",
    "operating_margin = fundamentals.OPINC.latest / revenue.where(revenue > 0) \n",
    "\n",
    "pipeline = Pipeline(\n",
    "    columns={\n",
    "        'operating_margin': operating_margin,\n",
    "    },\n",
    "    screen=BaseUniverse()\n",
    ")"
   ]
  },
  {
   "cell_type": "markdown",
   "metadata": {},
   "source": [
    "Re-running the pipeline and `describe()` method, we see that the `NaN` and `inf` values are gone:"
   ]
  },
  {
   "cell_type": "code",
   "execution_count": 6,
   "metadata": {},
   "outputs": [
    {
     "data": {
      "text/html": [
       "<div>\n",
       "<style scoped>\n",
       "    .dataframe tbody tr th:only-of-type {\n",
       "        vertical-align: middle;\n",
       "    }\n",
       "\n",
       "    .dataframe tbody tr th {\n",
       "        vertical-align: top;\n",
       "    }\n",
       "\n",
       "    .dataframe thead th {\n",
       "        text-align: right;\n",
       "    }\n",
       "</style>\n",
       "<table border=\"1\" class=\"dataframe\">\n",
       "  <thead>\n",
       "    <tr style=\"text-align: right;\">\n",
       "      <th></th>\n",
       "      <th>operating_margin</th>\n",
       "    </tr>\n",
       "  </thead>\n",
       "  <tbody>\n",
       "    <tr>\n",
       "      <th>count</th>\n",
       "      <td>1.031840e+06</td>\n",
       "    </tr>\n",
       "    <tr>\n",
       "      <th>mean</th>\n",
       "      <td>-3.954114e+01</td>\n",
       "    </tr>\n",
       "    <tr>\n",
       "      <th>std</th>\n",
       "      <td>4.773659e+03</td>\n",
       "    </tr>\n",
       "    <tr>\n",
       "      <th>min</th>\n",
       "      <td>-8.412604e+05</td>\n",
       "    </tr>\n",
       "    <tr>\n",
       "      <th>25%</th>\n",
       "      <td>-1.654805e-01</td>\n",
       "    </tr>\n",
       "    <tr>\n",
       "      <th>50%</th>\n",
       "      <td>6.742199e-02</td>\n",
       "    </tr>\n",
       "    <tr>\n",
       "      <th>75%</th>\n",
       "      <td>2.050349e-01</td>\n",
       "    </tr>\n",
       "    <tr>\n",
       "      <th>max</th>\n",
       "      <td>7.001749e+00</td>\n",
       "    </tr>\n",
       "  </tbody>\n",
       "</table>\n",
       "</div>"
      ],
      "text/plain": [
       "       operating_margin\n",
       "count      1.031840e+06\n",
       "mean      -3.954114e+01\n",
       "std        4.773659e+03\n",
       "min       -8.412604e+05\n",
       "25%       -1.654805e-01\n",
       "50%        6.742199e-02\n",
       "75%        2.050349e-01\n",
       "max        7.001749e+00"
      ]
     },
     "execution_count": 6,
     "metadata": {},
     "output_type": "execute_result"
    }
   ],
   "source": [
    "results = run_pipeline(pipeline, '2022-01-01', '2022-12-31')\n",
    "results.describe()"
   ]
  },
  {
   "cell_type": "markdown",
   "metadata": {},
   "source": [
    "What else can we glean from `describe()`? Simplistically, we can think of profit margin as the amount of revenue left over after paying expenses. This implies a number between 0 (no revenue left over) and 1 (all revenue left over, in the unlikely case that there are no expenses). But `describe()` shows that operating margin is not bounded by 0 and 1. First of all, operating income can be negative, so operating margin can also be negative: a company can spend arbitrarily more than it brings in as revenue. This isn't surprising or unintuitive but it is a useful reminder that our universe currently doesn't simply include companies with wider or narrower profit margins but also companies that are losing varying amounts of money. Depending on our goals, we may want to include those unprofitable companies in our analysis or exclude them.  \n",
    "\n",
    "A second revelation of `describe()` is more puzzling: operating margin can be greater than 1. This violates the intuitive understanding of profit margin as the amount of revenue left over after paying expenses. How can there be more than 100% of revenue left over after paying expenses? At the point, it would be helpful to look at some specific examples. To do this, we will re-run the pipeline, but this time will screen for stocks with operating margin greater than 1, and we will include in the output all of the relevant columns that determine the operating margin. To know what these columns are, you can start by adding `REVENUE` and `OPINC`, then clicking on them and pressing CTRL to view their definitions, which will show you the names of the underlying columns.\n",
    "\n",
    "We run this pipeline and look at a few of the results:"
   ]
  },
  {
   "cell_type": "code",
   "execution_count": 14,
   "metadata": {},
   "outputs": [
    {
     "data": {
      "text/html": [
       "<div>\n",
       "<style scoped>\n",
       "    .dataframe tbody tr th:only-of-type {\n",
       "        vertical-align: middle;\n",
       "    }\n",
       "\n",
       "    .dataframe tbody tr th {\n",
       "        vertical-align: top;\n",
       "    }\n",
       "\n",
       "    .dataframe thead th {\n",
       "        text-align: right;\n",
       "    }\n",
       "</style>\n",
       "<table border=\"1\" class=\"dataframe\">\n",
       "  <thead>\n",
       "    <tr style=\"text-align: right;\">\n",
       "      <th></th>\n",
       "      <th></th>\n",
       "      <th>operating_margin</th>\n",
       "      <th>revenue</th>\n",
       "      <th>operating_income</th>\n",
       "      <th>gross_profit</th>\n",
       "      <th>cost_of_revenue</th>\n",
       "      <th>operating_expenses</th>\n",
       "    </tr>\n",
       "    <tr>\n",
       "      <th>date</th>\n",
       "      <th>asset</th>\n",
       "      <th></th>\n",
       "      <th></th>\n",
       "      <th></th>\n",
       "      <th></th>\n",
       "      <th></th>\n",
       "      <th></th>\n",
       "    </tr>\n",
       "  </thead>\n",
       "  <tbody>\n",
       "    <tr>\n",
       "      <th>2023-01-03 00:00:00+00:00</th>\n",
       "      <th>Equity(FIBBG000D6DM44 [STRS])</th>\n",
       "      <td>7.001749</td>\n",
       "      <td>10866000.0</td>\n",
       "      <td>76081000.0</td>\n",
       "      <td>8507000.0</td>\n",
       "      <td>2359000.0</td>\n",
       "      <td>-67574000.0</td>\n",
       "    </tr>\n",
       "    <tr>\n",
       "      <th>2022-08-25 00:00:00+00:00</th>\n",
       "      <th>Equity(FIBBG000D6DM44 [STRS])</th>\n",
       "      <td>4.515059</td>\n",
       "      <td>16369000.0</td>\n",
       "      <td>73907000.0</td>\n",
       "      <td>8058000.0</td>\n",
       "      <td>8311000.0</td>\n",
       "      <td>-65849000.0</td>\n",
       "    </tr>\n",
       "    <tr>\n",
       "      <th>2022-08-03 00:00:00+00:00</th>\n",
       "      <th>Equity(FIBBG000D6DM44 [STRS])</th>\n",
       "      <td>3.936445</td>\n",
       "      <td>16820000.0</td>\n",
       "      <td>66211000.0</td>\n",
       "      <td>3317000.0</td>\n",
       "      <td>13503000.0</td>\n",
       "      <td>-62894000.0</td>\n",
       "    </tr>\n",
       "    <tr>\n",
       "      <th>2022-12-28 00:00:00+00:00</th>\n",
       "      <th>Equity(FIBBG000F88SY8 [CBIO])</th>\n",
       "      <td>3.509586</td>\n",
       "      <td>3234000.0</td>\n",
       "      <td>11350000.0</td>\n",
       "      <td>-18000.0</td>\n",
       "      <td>3252000.0</td>\n",
       "      <td>-11368000.0</td>\n",
       "    </tr>\n",
       "    <tr>\n",
       "      <th>2022-04-06 00:00:00+00:00</th>\n",
       "      <th>Equity(FIBBG000D6DM44 [STRS])</th>\n",
       "      <td>2.962884</td>\n",
       "      <td>28236000.0</td>\n",
       "      <td>83660000.0</td>\n",
       "      <td>4024000.0</td>\n",
       "      <td>24212000.0</td>\n",
       "      <td>-79636000.0</td>\n",
       "    </tr>\n",
       "  </tbody>\n",
       "</table>\n",
       "</div>"
      ],
      "text/plain": [
       "                                                         operating_margin  \\\n",
       "date                      asset                                             \n",
       "2023-01-03 00:00:00+00:00 Equity(FIBBG000D6DM44 [STRS])          7.001749   \n",
       "2022-08-25 00:00:00+00:00 Equity(FIBBG000D6DM44 [STRS])          4.515059   \n",
       "2022-08-03 00:00:00+00:00 Equity(FIBBG000D6DM44 [STRS])          3.936445   \n",
       "2022-12-28 00:00:00+00:00 Equity(FIBBG000F88SY8 [CBIO])          3.509586   \n",
       "2022-04-06 00:00:00+00:00 Equity(FIBBG000D6DM44 [STRS])          2.962884   \n",
       "\n",
       "                                                            revenue  \\\n",
       "date                      asset                                       \n",
       "2023-01-03 00:00:00+00:00 Equity(FIBBG000D6DM44 [STRS])  10866000.0   \n",
       "2022-08-25 00:00:00+00:00 Equity(FIBBG000D6DM44 [STRS])  16369000.0   \n",
       "2022-08-03 00:00:00+00:00 Equity(FIBBG000D6DM44 [STRS])  16820000.0   \n",
       "2022-12-28 00:00:00+00:00 Equity(FIBBG000F88SY8 [CBIO])   3234000.0   \n",
       "2022-04-06 00:00:00+00:00 Equity(FIBBG000D6DM44 [STRS])  28236000.0   \n",
       "\n",
       "                                                         operating_income  \\\n",
       "date                      asset                                             \n",
       "2023-01-03 00:00:00+00:00 Equity(FIBBG000D6DM44 [STRS])        76081000.0   \n",
       "2022-08-25 00:00:00+00:00 Equity(FIBBG000D6DM44 [STRS])        73907000.0   \n",
       "2022-08-03 00:00:00+00:00 Equity(FIBBG000D6DM44 [STRS])        66211000.0   \n",
       "2022-12-28 00:00:00+00:00 Equity(FIBBG000F88SY8 [CBIO])        11350000.0   \n",
       "2022-04-06 00:00:00+00:00 Equity(FIBBG000D6DM44 [STRS])        83660000.0   \n",
       "\n",
       "                                                         gross_profit  \\\n",
       "date                      asset                                         \n",
       "2023-01-03 00:00:00+00:00 Equity(FIBBG000D6DM44 [STRS])     8507000.0   \n",
       "2022-08-25 00:00:00+00:00 Equity(FIBBG000D6DM44 [STRS])     8058000.0   \n",
       "2022-08-03 00:00:00+00:00 Equity(FIBBG000D6DM44 [STRS])     3317000.0   \n",
       "2022-12-28 00:00:00+00:00 Equity(FIBBG000F88SY8 [CBIO])      -18000.0   \n",
       "2022-04-06 00:00:00+00:00 Equity(FIBBG000D6DM44 [STRS])     4024000.0   \n",
       "\n",
       "                                                         cost_of_revenue  \\\n",
       "date                      asset                                            \n",
       "2023-01-03 00:00:00+00:00 Equity(FIBBG000D6DM44 [STRS])        2359000.0   \n",
       "2022-08-25 00:00:00+00:00 Equity(FIBBG000D6DM44 [STRS])        8311000.0   \n",
       "2022-08-03 00:00:00+00:00 Equity(FIBBG000D6DM44 [STRS])       13503000.0   \n",
       "2022-12-28 00:00:00+00:00 Equity(FIBBG000F88SY8 [CBIO])        3252000.0   \n",
       "2022-04-06 00:00:00+00:00 Equity(FIBBG000D6DM44 [STRS])       24212000.0   \n",
       "\n",
       "                                                         operating_expenses  \n",
       "date                      asset                                              \n",
       "2023-01-03 00:00:00+00:00 Equity(FIBBG000D6DM44 [STRS])         -67574000.0  \n",
       "2022-08-25 00:00:00+00:00 Equity(FIBBG000D6DM44 [STRS])         -65849000.0  \n",
       "2022-08-03 00:00:00+00:00 Equity(FIBBG000D6DM44 [STRS])         -62894000.0  \n",
       "2022-12-28 00:00:00+00:00 Equity(FIBBG000F88SY8 [CBIO])         -11368000.0  \n",
       "2022-04-06 00:00:00+00:00 Equity(FIBBG000D6DM44 [STRS])         -79636000.0  "
      ]
     },
     "execution_count": 14,
     "metadata": {},
     "output_type": "execute_result"
    }
   ],
   "source": [
    "pipeline = Pipeline(\n",
    "    columns={\n",
    "        'operating_margin': operating_margin,\n",
    "        'revenue': fundamentals.REVENUE.latest,\n",
    "        'operating_income': fundamentals.OPINC.latest, # OPINC = GP - OPEX\n",
    "        'gross_profit': fundamentals.GP.latest, # GP = REVENUE - COR\n",
    "        'cost_of_revenue': fundamentals.COR.latest,\n",
    "        'operating_expenses': fundamentals.OPEX.latest\n",
    "    },\n",
    "    screen=BaseUniverse() & (operating_margin > 1)\n",
    ")\n",
    "\n",
    "results = run_pipeline(pipeline, '2022-01-01', '2022-12-31')\n",
    "results.sort_values('operating_margin', ascending=False).drop_duplicates().head()"
   ]
  },
  {
   "cell_type": "markdown",
   "metadata": {},
   "source": [
    "In these examples, operating expenses is negative, which accounts for operating margin being greater than 1. A negative operating expense is unexpected, and it might require further investigation into the specific companies to determine the explanation for this. Regardless, for the purpose of our profitability analysis, we probably don't want to treat a company with negative operating expenses as though it were extraordinarily profitable. Therefore, we can refine our profitability factor further by excluding these companies.\n",
    "\n",
    "Will that be sufficient? Let's see if our results include any companies that have operating margin greater than 1 despite having positive operating expenses:"
   ]
  },
  {
   "cell_type": "code",
   "execution_count": 19,
   "metadata": {},
   "outputs": [
    {
     "data": {
      "text/html": [
       "<div>\n",
       "<style scoped>\n",
       "    .dataframe tbody tr th:only-of-type {\n",
       "        vertical-align: middle;\n",
       "    }\n",
       "\n",
       "    .dataframe tbody tr th {\n",
       "        vertical-align: top;\n",
       "    }\n",
       "\n",
       "    .dataframe thead th {\n",
       "        text-align: right;\n",
       "    }\n",
       "</style>\n",
       "<table border=\"1\" class=\"dataframe\">\n",
       "  <thead>\n",
       "    <tr style=\"text-align: right;\">\n",
       "      <th></th>\n",
       "      <th></th>\n",
       "      <th>operating_margin</th>\n",
       "      <th>revenue</th>\n",
       "      <th>operating_income</th>\n",
       "      <th>gross_profit</th>\n",
       "      <th>cost_of_revenue</th>\n",
       "      <th>operating_expenses</th>\n",
       "    </tr>\n",
       "    <tr>\n",
       "      <th>date</th>\n",
       "      <th>asset</th>\n",
       "      <th></th>\n",
       "      <th></th>\n",
       "      <th></th>\n",
       "      <th></th>\n",
       "      <th></th>\n",
       "      <th></th>\n",
       "    </tr>\n",
       "  </thead>\n",
       "  <tbody>\n",
       "    <tr>\n",
       "      <th>2022-12-15 00:00:00+00:00</th>\n",
       "      <th>Equity(FIBBG004HQHKK0 [AMBC])</th>\n",
       "      <td>1.517751</td>\n",
       "      <td>3.380000e+08</td>\n",
       "      <td>5.130000e+08</td>\n",
       "      <td>6.940000e+08</td>\n",
       "      <td>-356000000.0</td>\n",
       "      <td>181000000.0</td>\n",
       "    </tr>\n",
       "    <tr>\n",
       "      <th>2022-11-22 00:00:00+00:00</th>\n",
       "      <th>Equity(FIBBG00D6RSP54 [GECC])</th>\n",
       "      <td>1.120348</td>\n",
       "      <td>2.345700e+07</td>\n",
       "      <td>2.628000e+07</td>\n",
       "      <td>3.028600e+07</td>\n",
       "      <td>-6829000.0</td>\n",
       "      <td>4006000.0</td>\n",
       "    </tr>\n",
       "    <tr>\n",
       "      <th>2022-10-27 00:00:00+00:00</th>\n",
       "      <th>Equity(FIBBG00D6RSP54 [GECC])</th>\n",
       "      <td>1.098722</td>\n",
       "      <td>2.479700e+07</td>\n",
       "      <td>2.724500e+07</td>\n",
       "      <td>3.117200e+07</td>\n",
       "      <td>-6375000.0</td>\n",
       "      <td>3927000.0</td>\n",
       "    </tr>\n",
       "    <tr>\n",
       "      <th>2022-05-13 00:00:00+00:00</th>\n",
       "      <th>Equity(FIBBG00D6RSP54 [GECC])</th>\n",
       "      <td>1.088843</td>\n",
       "      <td>2.551700e+07</td>\n",
       "      <td>2.778400e+07</td>\n",
       "      <td>3.150000e+07</td>\n",
       "      <td>-5983000.0</td>\n",
       "      <td>3716000.0</td>\n",
       "    </tr>\n",
       "    <tr>\n",
       "      <th>2022-08-18 00:00:00+00:00</th>\n",
       "      <th>Equity(FIBBG0058YL7G9 [ESNT])</th>\n",
       "      <td>1.026466</td>\n",
       "      <td>1.049472e+09</td>\n",
       "      <td>1.077247e+09</td>\n",
       "      <td>1.243445e+09</td>\n",
       "      <td>-193973000.0</td>\n",
       "      <td>166198000.0</td>\n",
       "    </tr>\n",
       "  </tbody>\n",
       "</table>\n",
       "</div>"
      ],
      "text/plain": [
       "                                                         operating_margin  \\\n",
       "date                      asset                                             \n",
       "2022-12-15 00:00:00+00:00 Equity(FIBBG004HQHKK0 [AMBC])          1.517751   \n",
       "2022-11-22 00:00:00+00:00 Equity(FIBBG00D6RSP54 [GECC])          1.120348   \n",
       "2022-10-27 00:00:00+00:00 Equity(FIBBG00D6RSP54 [GECC])          1.098722   \n",
       "2022-05-13 00:00:00+00:00 Equity(FIBBG00D6RSP54 [GECC])          1.088843   \n",
       "2022-08-18 00:00:00+00:00 Equity(FIBBG0058YL7G9 [ESNT])          1.026466   \n",
       "\n",
       "                                                              revenue  \\\n",
       "date                      asset                                         \n",
       "2022-12-15 00:00:00+00:00 Equity(FIBBG004HQHKK0 [AMBC])  3.380000e+08   \n",
       "2022-11-22 00:00:00+00:00 Equity(FIBBG00D6RSP54 [GECC])  2.345700e+07   \n",
       "2022-10-27 00:00:00+00:00 Equity(FIBBG00D6RSP54 [GECC])  2.479700e+07   \n",
       "2022-05-13 00:00:00+00:00 Equity(FIBBG00D6RSP54 [GECC])  2.551700e+07   \n",
       "2022-08-18 00:00:00+00:00 Equity(FIBBG0058YL7G9 [ESNT])  1.049472e+09   \n",
       "\n",
       "                                                         operating_income  \\\n",
       "date                      asset                                             \n",
       "2022-12-15 00:00:00+00:00 Equity(FIBBG004HQHKK0 [AMBC])      5.130000e+08   \n",
       "2022-11-22 00:00:00+00:00 Equity(FIBBG00D6RSP54 [GECC])      2.628000e+07   \n",
       "2022-10-27 00:00:00+00:00 Equity(FIBBG00D6RSP54 [GECC])      2.724500e+07   \n",
       "2022-05-13 00:00:00+00:00 Equity(FIBBG00D6RSP54 [GECC])      2.778400e+07   \n",
       "2022-08-18 00:00:00+00:00 Equity(FIBBG0058YL7G9 [ESNT])      1.077247e+09   \n",
       "\n",
       "                                                         gross_profit  \\\n",
       "date                      asset                                         \n",
       "2022-12-15 00:00:00+00:00 Equity(FIBBG004HQHKK0 [AMBC])  6.940000e+08   \n",
       "2022-11-22 00:00:00+00:00 Equity(FIBBG00D6RSP54 [GECC])  3.028600e+07   \n",
       "2022-10-27 00:00:00+00:00 Equity(FIBBG00D6RSP54 [GECC])  3.117200e+07   \n",
       "2022-05-13 00:00:00+00:00 Equity(FIBBG00D6RSP54 [GECC])  3.150000e+07   \n",
       "2022-08-18 00:00:00+00:00 Equity(FIBBG0058YL7G9 [ESNT])  1.243445e+09   \n",
       "\n",
       "                                                         cost_of_revenue  \\\n",
       "date                      asset                                            \n",
       "2022-12-15 00:00:00+00:00 Equity(FIBBG004HQHKK0 [AMBC])     -356000000.0   \n",
       "2022-11-22 00:00:00+00:00 Equity(FIBBG00D6RSP54 [GECC])       -6829000.0   \n",
       "2022-10-27 00:00:00+00:00 Equity(FIBBG00D6RSP54 [GECC])       -6375000.0   \n",
       "2022-05-13 00:00:00+00:00 Equity(FIBBG00D6RSP54 [GECC])       -5983000.0   \n",
       "2022-08-18 00:00:00+00:00 Equity(FIBBG0058YL7G9 [ESNT])     -193973000.0   \n",
       "\n",
       "                                                         operating_expenses  \n",
       "date                      asset                                              \n",
       "2022-12-15 00:00:00+00:00 Equity(FIBBG004HQHKK0 [AMBC])         181000000.0  \n",
       "2022-11-22 00:00:00+00:00 Equity(FIBBG00D6RSP54 [GECC])           4006000.0  \n",
       "2022-10-27 00:00:00+00:00 Equity(FIBBG00D6RSP54 [GECC])           3927000.0  \n",
       "2022-05-13 00:00:00+00:00 Equity(FIBBG00D6RSP54 [GECC])           3716000.0  \n",
       "2022-08-18 00:00:00+00:00 Equity(FIBBG0058YL7G9 [ESNT])         166198000.0  "
      ]
     },
     "execution_count": 19,
     "metadata": {},
     "output_type": "execute_result"
    }
   ],
   "source": [
    "results = results[results.operating_expenses > 0]\n",
    "results.sort_values('operating_margin', ascending=False).drop_duplicates().head()"
   ]
  },
  {
   "cell_type": "markdown",
   "metadata": {},
   "source": [
    "Just as some companies report negative operating expenses, some companies report negative cost of revenue. The same principle applies: let's exclude these so as not to reward companies in this unusual situation."
   ]
  },
  {
   "cell_type": "code",
   "execution_count": 20,
   "metadata": {},
   "outputs": [],
   "source": [
    "revenue = fundamentals.REVENUE.latest\n",
    "operating_margin = fundamentals.OPINC.latest / revenue.where(revenue > 0) \n",
    "\n",
    "# exclude companies with negative operating expenses or negative cost of revenue\n",
    "opex = fundamentals.OPEX.latest\n",
    "cor = fundamentals.COR.latest\n",
    "operating_margin = operating_margin.where((opex > 0) & (cor > 0))\n",
    "\n",
    "pipeline = Pipeline(\n",
    "    columns={\n",
    "        'operating_margin': operating_margin,\n",
    "    },\n",
    "    screen=BaseUniverse()\n",
    ")"
   ]
  },
  {
   "cell_type": "markdown",
   "metadata": {},
   "source": [
    "Re-running the refined pipeline, our `describe()` results conform better to expectations:"
   ]
  },
  {
   "cell_type": "code",
   "execution_count": 21,
   "metadata": {},
   "outputs": [
    {
     "data": {
      "text/html": [
       "<div>\n",
       "<style scoped>\n",
       "    .dataframe tbody tr th:only-of-type {\n",
       "        vertical-align: middle;\n",
       "    }\n",
       "\n",
       "    .dataframe tbody tr th {\n",
       "        vertical-align: top;\n",
       "    }\n",
       "\n",
       "    .dataframe thead th {\n",
       "        text-align: right;\n",
       "    }\n",
       "</style>\n",
       "<table border=\"1\" class=\"dataframe\">\n",
       "  <thead>\n",
       "    <tr style=\"text-align: right;\">\n",
       "      <th></th>\n",
       "      <th>operating_margin</th>\n",
       "    </tr>\n",
       "  </thead>\n",
       "  <tbody>\n",
       "    <tr>\n",
       "      <th>count</th>\n",
       "      <td>849765.000000</td>\n",
       "    </tr>\n",
       "    <tr>\n",
       "      <th>mean</th>\n",
       "      <td>-37.951557</td>\n",
       "    </tr>\n",
       "    <tr>\n",
       "      <th>std</th>\n",
       "      <td>5243.433663</td>\n",
       "    </tr>\n",
       "    <tr>\n",
       "      <th>min</th>\n",
       "      <td>-841260.400000</td>\n",
       "    </tr>\n",
       "    <tr>\n",
       "      <th>25%</th>\n",
       "      <td>-0.143405</td>\n",
       "    </tr>\n",
       "    <tr>\n",
       "      <th>50%</th>\n",
       "      <td>0.053469</td>\n",
       "    </tr>\n",
       "    <tr>\n",
       "      <th>75%</th>\n",
       "      <td>0.154091</td>\n",
       "    </tr>\n",
       "    <tr>\n",
       "      <th>max</th>\n",
       "      <td>0.965168</td>\n",
       "    </tr>\n",
       "  </tbody>\n",
       "</table>\n",
       "</div>"
      ],
      "text/plain": [
       "       operating_margin\n",
       "count     849765.000000\n",
       "mean         -37.951557\n",
       "std         5243.433663\n",
       "min      -841260.400000\n",
       "25%           -0.143405\n",
       "50%            0.053469\n",
       "75%            0.154091\n",
       "max            0.965168"
      ]
     },
     "execution_count": 21,
     "metadata": {},
     "output_type": "execute_result"
    }
   ],
   "source": [
    "results = run_pipeline(pipeline, '2022-01-01', '2022-12-31')\n",
    "results.describe()"
   ]
  },
  {
   "cell_type": "markdown",
   "metadata": {},
   "source": [
    "\n",
    "## Visualizing the data distribution\n",
    "\n",
    "Now that we've refined our factor to exclude unusual cases, let's look at a histogram of operating margin to get a better feel for its distribution. We can use pandas's `plot()` method with `kind=\"hist\"` to do so. However, the plot we get for the data on the first try is not very informative, as all the observations are crammed into a single bin: "
   ]
  },
  {
   "cell_type": "code",
   "execution_count": 27,
   "metadata": {},
   "outputs": [
    {
     "data": {
      "image/png": "[encoded data removed]",
      "text/plain": [
       "<Figure size 1152x432 with 1 Axes>"
      ]
     },
     "metadata": {},
     "output_type": "display_data"
    }
   ],
   "source": [
    "results.plot.hist();"
   ]
  },
  {
   "cell_type": "markdown",
   "metadata": {},
   "source": [
    "The problem is that negative outliers (companies with extremely negative operating margins) are causing most values to be crammed in a single bin. We can fix this by using the `range` argument to `hist()` to zoom in on the bulk of the distribution. In addition, we'll increase the number of bins to 20, from the default 10."
   ]
  },
  {
   "cell_type": "code",
   "execution_count": 30,
   "metadata": {},
   "outputs": [
    {
     "data": {
      "image/png": "[encoded data removed]",
      "text/plain": [
       "<Figure size 1152x432 with 1 Axes>"
      ]
     },
     "metadata": {},
     "output_type": "display_data"
    }
   ],
   "source": [
    "results.plot.hist(bins=20, range=(-1, 1));"
   ]
  },
  {
   "cell_type": "markdown",
   "metadata": {},
   "source": [
    "## Clipping Outliers\n",
    "\n",
    "Using `range` to zoom in on the distribution is useful for viewing the histogram, but it doesn't remove the outliers from the pipeline output itself. Before using the pipeline output in Alphalens or Zipline, perhaps it would be a good idea to adjust the pipeline to deal with the outliers. Beyond a certain point, increasingly negative operating margins don't provide useful additional information; it's enough to know that the company is very unprofitable. So, a reasonable solution is to clip the values to -1. This means that any values less than -1 will be replaced with -1. The Factor `clip()` method requires both a lower and upper bound. We'll set the upper bound to 1, knowing that since we already excluded companies with operating margins above 1, the upper bound is redundant. (The lower and upper bound can be set to `-np.inf` and `np.inf`, respectively, to indicate no bound.) "
   ]
  },
  {
   "cell_type": "code",
   "execution_count": 32,
   "metadata": {},
   "outputs": [],
   "source": [
    "pipeline = Pipeline(\n",
    "    columns={\n",
    "        'operating_margin': operating_margin.clip(min_bound=-1, max_bound=1),\n",
    "    },\n",
    "    screen=BaseUniverse()\n",
    ")"
   ]
  },
  {
   "cell_type": "markdown",
   "metadata": {},
   "source": [
    "If we re-run the pipeline, we can now plot the histogram without using `range`. Notice that, unlike the previous histogram which ignored data outside the (-1, 1) range, in this histogram the clipped values cluster at -1. In other words, the previous histogram included a subset of the data, while this histogram includes all the data. "
   ]
  },
  {
   "cell_type": "code",
   "execution_count": 33,
   "metadata": {},
   "outputs": [
    {
     "data": {
      "image/png": "[encoded data removed]",
      "text/plain": [
       "<Figure size 1152x432 with 1 Axes>"
      ]
     },
     "metadata": {},
     "output_type": "display_data"
    }
   ],
   "source": [
    "results = run_pipeline(pipeline, '2022-01-01', '2022-12-31')\n",
    "results.plot.hist(bins=20);"
   ]
  },
  {
   "cell_type": "markdown",
   "metadata": {},
   "source": [
    "> An alternative to using `clip()` to trim outliers is to use `winsorize()`. The difference between `clip()` and `winsorize()` is that `winsorize()` trims values above and below a certain percentile in the distribution, while `clip()` trims values above and below specific fixed values. "
   ]
  },
  {
   "cell_type": "markdown",
   "metadata": {},
   "source": [
    "***\n",
    "\n",
    "## *Next Up*\n",
    "\n",
    "Lesson 6: [Alphalens: Profitability](Lesson06-Profitability.ipynb)"
   ]
  }
 ],
 "metadata": {
  "kernelspec": {
   "display_name": "Python 3.9",
   "language": "python",
   "name": "python3"
  },
  "language_info": {
   "codemirror_mode": {
    "name": "ipython",
    "version": 3
   },
   "file_extension": ".py",
   "mimetype": "text/x-python",
   "name": "python",
   "nbconvert_exporter": "python",
   "pygments_lexer": "ipython3",
   "version": "3.9.7"
  }
 },
 "nbformat": 4,
 "nbformat_minor": 4
}
